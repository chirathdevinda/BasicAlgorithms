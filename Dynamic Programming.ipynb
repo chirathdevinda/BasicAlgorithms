{
 "cells": [
  {
   "cell_type": "markdown",
   "metadata": {},
   "source": [
    "# Dynamic Programming"
   ]
  },
  {
   "cell_type": "code",
   "execution_count": 418,
   "metadata": {
    "collapsed": true
   },
   "outputs": [],
   "source": [
    "# Importing numpy package\n",
    "import numpy as np"
   ]
  },
  {
   "cell_type": "code",
   "execution_count": 401,
   "metadata": {
    "collapsed": true
   },
   "outputs": [],
   "source": [
    "# items hash table include each items weight and the value\n",
    "items = {}\n",
    "items['item1'] = [10, 1000]\n",
    "items['item2'] = [5, 1500]\n",
    "items['item3'] = [20, 2000]\n",
    "items['item4'] = [10, 1500]\n",
    "items['item5'] = [25, 2500]"
   ]
  },
  {
   "cell_type": "code",
   "execution_count": 402,
   "metadata": {
    "collapsed": true
   },
   "outputs": [],
   "source": [
    "# maximum weight knapsack can hold\n",
    "knapsack = 25"
   ]
  },
  {
   "cell_type": "code",
   "execution_count": 408,
   "metadata": {
    "collapsed": true
   },
   "outputs": [],
   "source": [
    "# DynamicPro function with items and knapsack capacity\n",
    "def DynamicPro(items, knapsack):\n",
    "    grid = np.zeros((5,5))\n",
    "    for j, item in enumerate(items):\n",
    "        w, v = items[item]\n",
    "        for k in range(1, len(grid)+1, 1):\n",
    "            if k*5 >= w:\n",
    "                if j > 0 and k < knapsack:\n",
    "                    grid[k-1][j] = max(grid[k-1][j-1], v + (grid[k-1 -(w//5)][j-1] if (k-1)>=(w//5) else 0))\n",
    "                else:\n",
    "                    grid[k-1][j] = v\n",
    "            else:\n",
    "                if j > 0:\n",
    "                    grid[k-1][j] = grid[k-1][j-1]\n",
    "                else:\n",
    "                    continue\n",
    "    return traceback(grid, items, knapsack)"
   ]
  },
  {
   "cell_type": "code",
   "execution_count": 416,
   "metadata": {},
   "outputs": [],
   "source": [
    "# Trace back function\n",
    "def traceback(grid, items, knapsack):\n",
    "    grid = np.hstack((np.zeros((5,1)),grid))\n",
    "    grid = np.vstack((np.zeros((1,grid.shape[1])),grid))\n",
    "    selectedItems = []\n",
    "    k = grid.shape[0]-1\n",
    "    \n",
    "    for i in range(len(grid[0])-1, -1, -1):\n",
    "        if grid[k, i] != grid[k, i-1] and i > 1:\n",
    "            selectedItems.append(\"item\"+str(i))\n",
    "            w = items[\"item\"+str(i)][0]\n",
    "            k = (k - (w//5)) if i > 2 else k\n",
    "        else:\n",
    "            if i == 1 and grid[k, i] != 0:\n",
    "                selectedItems.append(\"item\"+str(i))\n",
    "                \n",
    "    return grid, \"Selected items are: \",selectedItems"
   ]
  },
  {
   "cell_type": "code",
   "execution_count": 417,
   "metadata": {},
   "outputs": [
    {
     "data": {
      "text/plain": [
       "(array([[    0.,     0.,     0.,     0.,     0.,     0.],\n",
       "        [    0.,     0.,  1500.,  1500.,  1500.,  1500.],\n",
       "        [    0.,  1000.,  1500.,  1500.,  1500.,  1500.],\n",
       "        [    0.,  1000.,  2500.,  2500.,  3000.,  3000.],\n",
       "        [    0.,  1000.,  2500.,  2500.,  3000.,  3000.],\n",
       "        [    0.,  1000.,  2500.,  3500.,  4000.,  4000.]]),\n",
       " 'Selected items are: ',\n",
       " ['item4', 'item2', 'item1'])"
      ]
     },
     "execution_count": 417,
     "metadata": {},
     "output_type": "execute_result"
    }
   ],
   "source": [
    "# Calling DynamicPro function\n",
    "DynamicPro(items, knapsack)"
   ]
  },
  {
   "cell_type": "code",
   "execution_count": null,
   "metadata": {
    "collapsed": true
   },
   "outputs": [],
   "source": []
  }
 ],
 "metadata": {
  "kernelspec": {
   "display_name": "Python 3",
   "language": "python",
   "name": "python3"
  },
  "language_info": {
   "codemirror_mode": {
    "name": "ipython",
    "version": 3
   },
   "file_extension": ".py",
   "mimetype": "text/x-python",
   "name": "python",
   "nbconvert_exporter": "python",
   "pygments_lexer": "ipython3",
   "version": "3.6.1"
  }
 },
 "nbformat": 4,
 "nbformat_minor": 2
}
