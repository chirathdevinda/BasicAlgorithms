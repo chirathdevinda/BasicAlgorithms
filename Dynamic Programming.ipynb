{
 "cells": [
  {
   "cell_type": "markdown",
   "metadata": {},
   "source": [
    "# Dynamic Programming"
   ]
  },
  {
   "cell_type": "code",
   "execution_count": 30,
   "metadata": {
    "collapsed": true
   },
   "outputs": [],
   "source": [
    "import numpy as np"
   ]
  },
  {
   "cell_type": "code",
   "execution_count": 42,
   "metadata": {
    "collapsed": true
   },
   "outputs": [],
   "source": [
    "# items hash table include each items weight and the value\n",
    "items = {}\n",
    "items['item1'] = [10, 1000]\n",
    "items['item2'] = [5, 1500]\n",
    "items['item3'] = [20, 2000]\n",
    "items['item4'] = [10, 1500]\n",
    "items['item5'] = [25, 2500]"
   ]
  },
  {
   "cell_type": "code",
   "execution_count": 43,
   "metadata": {
    "collapsed": true
   },
   "outputs": [],
   "source": [
    "# maximum weight knapsack can hold\n",
    "knapsack = 25"
   ]
  },
  {
   "cell_type": "code",
   "execution_count": 54,
   "metadata": {
    "collapsed": true
   },
   "outputs": [],
   "source": [
    "def DynamicPro(items, knapsack):\n",
    "    grid = np.zeros((5,5))\n",
    "    for j, item in enumerate(items):\n",
    "        w, v = items[item]\n",
    "        for k in range(1, len(grid)+1, 1):\n",
    "            if k*5 >= w:\n",
    "                if j > 0 and k < knapsack:\n",
    "                    grid[k-1][j] = max(grid[k-1][j-1], v + (grid[k-1 -(w//5)][j-1] if (k-1)>=(w//5) else 0))\n",
    "                else:\n",
    "                    grid[k-1][j] = v\n",
    "            else:\n",
    "                if j > 0:\n",
    "                    grid[k-1][j] = grid[k-1][j-1]\n",
    "                else:\n",
    "                    continue\n",
    "    print(grid)"
   ]
  },
  {
   "cell_type": "code",
   "execution_count": 55,
   "metadata": {},
   "outputs": [
    {
     "name": "stdout",
     "output_type": "stream",
     "text": [
      "[[    0.  1500.  1500.  1500.  1500.]\n",
      " [ 1000.  1500.  1500.  1500.  1500.]\n",
      " [ 1000.  2500.  2500.  3000.  3000.]\n",
      " [ 1000.  2500.  2500.  3000.  3000.]\n",
      " [ 1000.  2500.  3500.  4000.  4000.]]\n"
     ]
    }
   ],
   "source": [
    "DynamicPro(items, knapsack)"
   ]
  },
  {
   "cell_type": "code",
   "execution_count": null,
   "metadata": {
    "collapsed": true
   },
   "outputs": [],
   "source": []
  }
 ],
 "metadata": {
  "kernelspec": {
   "display_name": "Python 3",
   "language": "python",
   "name": "python3"
  },
  "language_info": {
   "codemirror_mode": {
    "name": "ipython",
    "version": 3
   },
   "file_extension": ".py",
   "mimetype": "text/x-python",
   "name": "python",
   "nbconvert_exporter": "python",
   "pygments_lexer": "ipython3",
   "version": "3.6.1"
  }
 },
 "nbformat": 4,
 "nbformat_minor": 2
}
