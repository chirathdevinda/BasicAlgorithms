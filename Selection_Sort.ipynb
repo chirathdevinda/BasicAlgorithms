{
 "cells": [
  {
   "cell_type": "code",
   "execution_count": 8,
   "metadata": {
    "collapsed": true
   },
   "outputs": [],
   "source": [
    "# Finding the smallest number in the array\n",
    "def smallest_number_index(arr):\n",
    "    # Setting the first index as the starting point\n",
    "    smallest_num_idx = 0\n",
    "    # Iterating through each elements and find the smallest number's index\n",
    "    for i in range(len(arr)):\n",
    "        # Comparing each element with the smallest number and set if the current element is smaller than the smallest number\n",
    "        if (arr[i] < arr[smallest_num_idx]):\n",
    "            smallest_num_idx = i\n",
    "    return smallest_num_idx"
   ]
  },
  {
   "cell_type": "code",
   "execution_count": 9,
   "metadata": {
    "collapsed": true
   },
   "outputs": [],
   "source": [
    "def Selection_Sort(arr):\n",
    "    # Initializing a new sorted array\n",
    "    sorted_array = []\n",
    "    # Iterating through the whole array\n",
    "    while(len(arr)):\n",
    "        # Calling the smallest_number_index method and find the smallest number's index\n",
    "        smallest_num_idx = smallest_number_index(arr)\n",
    "        # Each time find the smallest number from the array\n",
    "        # Add it to the sorted array while removing it from the original array\n",
    "        sorted_array.append(arr.pop(smallest_num_idx))\n",
    "    print(sorted_array)"
   ]
  },
  {
   "cell_type": "code",
   "execution_count": 10,
   "metadata": {},
   "outputs": [
    {
     "name": "stdout",
     "output_type": "stream",
     "text": [
      "[1, 2, 3, 4, 5, 6, 7, 8, 9, 10]\n"
     ]
    }
   ],
   "source": [
    "x = [10,9,8,7,6,5,4,3,2,1]\n",
    "Selection_Sort(x)"
   ]
  },
  {
   "cell_type": "code",
   "execution_count": null,
   "metadata": {
    "collapsed": true
   },
   "outputs": [],
   "source": []
  }
 ],
 "metadata": {
  "kernelspec": {
   "display_name": "Python 3",
   "language": "python",
   "name": "python3"
  },
  "language_info": {
   "codemirror_mode": {
    "name": "ipython",
    "version": 3
   },
   "file_extension": ".py",
   "mimetype": "text/x-python",
   "name": "python",
   "nbconvert_exporter": "python",
   "pygments_lexer": "ipython3",
   "version": "3.6.1"
  }
 },
 "nbformat": 4,
 "nbformat_minor": 2
}
