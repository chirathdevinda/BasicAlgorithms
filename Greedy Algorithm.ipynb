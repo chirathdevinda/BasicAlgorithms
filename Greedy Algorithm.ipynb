{
 "cells": [
  {
   "cell_type": "markdown",
   "metadata": {},
   "source": [
    "# Greedy Algorithm"
   ]
  },
  {
   "cell_type": "code",
   "execution_count": 6,
   "metadata": {
    "collapsed": true
   },
   "outputs": [],
   "source": [
    "All_the_cities = set([\"Flinders\", \"St.Kilda\", \"Burwood\", \"Alamein\", \"Ashwood\", \"Boxhill\", \"kew\", \"Mulgrave\", \"Oakleigh\"])"
   ]
  },
  {
   "cell_type": "code",
   "execution_count": 7,
   "metadata": {},
   "outputs": [],
   "source": [
    "TrainRoutes = {}\n",
    "TrainRoutes[\"Route1\"] = set([\"Flinders\", \"Ashwood\", \"Alamein\"])\n",
    "TrainRoutes[\"Route2\"] = set([\"St.Kilda\", \"kew\", \"Oakleigh\"])\n",
    "TrainRoutes[\"Route3\"] = set([\"Oakleigh\", \"Mulgrave\"])\n",
    "TrainRoutes[\"Route4\"] = set([\"Flinders\", \"Alamein\", \"Mulgrave\"])\n",
    "TrainRoutes[\"Route5\"] = set([\"Boxhill\", \"Burwood\", \"Ashwood\", \"Alamein\"])"
   ]
  },
  {
   "cell_type": "code",
   "execution_count": 8,
   "metadata": {
    "collapsed": true
   },
   "outputs": [],
   "source": [
    "BestTrainRoutes = []\n",
    "while All_the_cities:\n",
    "    bestRoute = None\n",
    "    max_cities = set()\n",
    "    for TrainRoute, cities in TrainRoutes.items():\n",
    "        max_cities_for_route = All_the_cities & cities\n",
    "        if len(max_cities_for_route) > len(max_cities):\n",
    "            bestRoute = TrainRoute\n",
    "            max_cities = max_cities_for_route\n",
    "            \n",
    "    BestTrainRoutes.append(bestRoute)\n",
    "    All_the_cities = All_the_cities - max_cities"
   ]
  },
  {
   "cell_type": "code",
   "execution_count": 9,
   "metadata": {},
   "outputs": [
    {
     "data": {
      "text/plain": [
       "['Route5', 'Route2', 'Route4']"
      ]
     },
     "execution_count": 9,
     "metadata": {},
     "output_type": "execute_result"
    }
   ],
   "source": [
    "BestTrainRoutes"
   ]
  },
  {
   "cell_type": "code",
   "execution_count": null,
   "metadata": {
    "collapsed": true
   },
   "outputs": [],
   "source": []
  }
 ],
 "metadata": {
  "kernelspec": {
   "display_name": "Python 3",
   "language": "python",
   "name": "python3"
  },
  "language_info": {
   "codemirror_mode": {
    "name": "ipython",
    "version": 3
   },
   "file_extension": ".py",
   "mimetype": "text/x-python",
   "name": "python",
   "nbconvert_exporter": "python",
   "pygments_lexer": "ipython3",
   "version": "3.6.1"
  }
 },
 "nbformat": 4,
 "nbformat_minor": 2
}
