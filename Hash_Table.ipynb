{
 "cells": [
  {
   "cell_type": "markdown",
   "metadata": {},
   "source": [
    "# Hash Table Implementation"
   ]
  },
  {
   "cell_type": "code",
   "execution_count": 185,
   "metadata": {
    "collapsed": true
   },
   "outputs": [],
   "source": [
    "# Creating internal array of size 10"
   ]
  },
  {
   "cell_type": "code",
   "execution_count": 186,
   "metadata": {
    "collapsed": true
   },
   "outputs": [],
   "source": [
    "import numpy as np"
   ]
  },
  {
   "cell_type": "code",
   "execution_count": 187,
   "metadata": {},
   "outputs": [],
   "source": [
    "np.set_printoptions(precision=2)\n",
    "array = np.empty(10, dtype=float)"
   ]
  },
  {
   "cell_type": "code",
   "execution_count": 188,
   "metadata": {
    "collapsed": true
   },
   "outputs": [],
   "source": [
    "# Hash function implementation"
   ]
  },
  {
   "cell_type": "code",
   "execution_count": 189,
   "metadata": {},
   "outputs": [],
   "source": [
    "# Assigning each letter a prime number\n",
    "def get_prime(letter):\n",
    "    if letter == 'A' or letter == 'a':\n",
    "        return 2\n",
    "    elif letter == 'B' or letter == 'b':\n",
    "        return 3\n",
    "    elif letter == 'C' or letter == 'c':\n",
    "        return 5\n",
    "    elif letter == 'D' or letter == 'd':\n",
    "        return 7\n",
    "    elif letter == 'E' or letter == 'e':\n",
    "        return 11\n",
    "    elif letter == 'F' or letter == 'f':\n",
    "        return 13\n",
    "    elif letter == 'G' or letter == 'g':\n",
    "        return 17\n",
    "    elif letter == 'H' or letter == 'h':\n",
    "        return 19\n",
    "    elif letter == 'I' or letter == 'i':\n",
    "        return 23\n",
    "    elif letter == 'J' or letter == 'j':\n",
    "        return 29\n",
    "    elif letter == 'K' or letter == 'k':\n",
    "        return 31\n",
    "    elif letter == 'L' or letter == 'l':\n",
    "        return 37\n",
    "    elif letter == 'M' or letter == 'm':\n",
    "        return 41\n",
    "    elif letter == 'N' or letter == 'n':\n",
    "        return 43\n",
    "    elif letter == 'O' or letter == 'o':\n",
    "        return 47\n",
    "    elif letter == 'P' or letter == 'p':\n",
    "        return 51\n",
    "    elif letter == 'Q' or letter == 'q':\n",
    "        return 53\n",
    "    elif letter == 'R' or letter == 'r':\n",
    "        return 57\n",
    "    elif letter == 'S' or letter == 's':\n",
    "        return 59\n",
    "    elif letter == 'T' or letter == 't':\n",
    "        return 61\n",
    "    elif letter == 'U' or letter == 'u':\n",
    "        return 67\n",
    "    elif letter == 'V' or letter == 'v':\n",
    "        return 71\n",
    "    elif letter == 'W' or letter == 'w':\n",
    "        return 73\n",
    "    elif letter == 'X' or letter == 'x':\n",
    "        return 79\n",
    "    elif letter == 'Y' or letter == 'y':\n",
    "        return 83\n",
    "    elif letter == 'Z' or letter == 'z':\n",
    "        return 87"
   ]
  },
  {
   "cell_type": "code",
   "execution_count": 190,
   "metadata": {},
   "outputs": [],
   "source": [
    "def calculate_hash_index(string, array):\n",
    "    # Take the total of prime numbers of the string and take the mod\n",
    "    total = 0\n",
    "    for letter in string:\n",
    "        total += get_prime(letter)\n",
    "    return total % len(array)"
   ]
  },
  {
   "cell_type": "code",
   "execution_count": 191,
   "metadata": {},
   "outputs": [],
   "source": [
    "def hashtable(key, value):\n",
    "    # Calculate the index value and set the value in internal array\n",
    "    global array\n",
    "    array[calculate_hash_index(key, array)] = value"
   ]
  },
  {
   "cell_type": "code",
   "execution_count": 192,
   "metadata": {
    "collapsed": true
   },
   "outputs": [],
   "source": [
    "def get(key):\n",
    "    # Retrieving the corresponding value \n",
    "    global array\n",
    "    index = calculate_hash_index(key, array)\n",
    "    return array[index]"
   ]
  },
  {
   "cell_type": "code",
   "execution_count": 193,
   "metadata": {},
   "outputs": [],
   "source": [
    "def remove(key):\n",
    "    # Setting 0 to correcponding value\n",
    "    global array\n",
    "    index = calculate_hash_index(key, array)\n",
    "    array[index] = 0"
   ]
  },
  {
   "cell_type": "code",
   "execution_count": 194,
   "metadata": {},
   "outputs": [],
   "source": [
    "# Adding data to the hashtable"
   ]
  },
  {
   "cell_type": "code",
   "execution_count": 201,
   "metadata": {},
   "outputs": [],
   "source": [
    "hashtable(\"Banana\", 10.00)\n",
    "hashtable(\"Apple\", 20.00)\n",
    "hashtable(\"Grapes\", 30.00)"
   ]
  },
  {
   "cell_type": "code",
   "execution_count": 202,
   "metadata": {},
   "outputs": [
    {
     "name": "stdout",
     "output_type": "stream",
     "text": [
      "Grapes is: $ 30.0 \n",
      "Banana is: $ 10.0 \n",
      "Orange is: $ 20.0\n"
     ]
    }
   ],
   "source": [
    "# Retreiving data from it\n",
    "grapes_price = get(\"Grapes\")\n",
    "Banana_price = get(\"Banana\")\n",
    "Orange_price = get(\"apple\")\n",
    "\n",
    "print( \"Grapes is: $\" , grapes_price , \"\\nBanana is: $\" , Banana_price , \"\\nOrange is: $\" , Orange_price )"
   ]
  },
  {
   "cell_type": "code",
   "execution_count": 197,
   "metadata": {},
   "outputs": [],
   "source": [
    "# Deleting data from it\n",
    "remove(\"Banana\")"
   ]
  },
  {
   "cell_type": "code",
   "execution_count": null,
   "metadata": {
    "collapsed": true
   },
   "outputs": [],
   "source": []
  },
  {
   "cell_type": "code",
   "execution_count": 203,
   "metadata": {},
   "outputs": [
    {
     "data": {
      "text/plain": [
       "5"
      ]
     },
     "execution_count": 203,
     "metadata": {},
     "output_type": "execute_result"
    }
   ],
   "source": [
    "# This how indices being calculated\n",
    "calculate_hash_index(\"Banana\", array)"
   ]
  },
  {
   "cell_type": "code",
   "execution_count": 204,
   "metadata": {},
   "outputs": [
    {
     "data": {
      "text/plain": [
       "array([  0.,   0.,  20.,   0.,   0.,  10.,   0.,  30.,   0.,   0.])"
      ]
     },
     "execution_count": 204,
     "metadata": {},
     "output_type": "execute_result"
    }
   ],
   "source": [
    "# This is how internal array store data\n",
    "array"
   ]
  },
  {
   "cell_type": "code",
   "execution_count": 205,
   "metadata": {},
   "outputs": [
    {
     "data": {
      "text/plain": [
       "10.0"
      ]
     },
     "execution_count": 205,
     "metadata": {},
     "output_type": "execute_result"
    }
   ],
   "source": [
    "# This is how it retreive values\n",
    "array[calculate_hash_index(\"Banana\", array)]"
   ]
  },
  {
   "cell_type": "code",
   "execution_count": 206,
   "metadata": {},
   "outputs": [],
   "source": [
    "####################################################################################\n",
    "# NOTE\n",
    "#\n",
    "# This is not a perfect implementation but it shows how internally hashtable works.\n",
    "#\n",
    "####################################################################################"
   ]
  },
  {
   "cell_type": "code",
   "execution_count": null,
   "metadata": {
    "collapsed": true
   },
   "outputs": [],
   "source": []
  }
 ],
 "metadata": {
  "kernelspec": {
   "display_name": "Python 3",
   "language": "python",
   "name": "python3"
  },
  "language_info": {
   "codemirror_mode": {
    "name": "ipython",
    "version": 3
   },
   "file_extension": ".py",
   "mimetype": "text/x-python",
   "name": "python",
   "nbconvert_exporter": "python",
   "pygments_lexer": "ipython3",
   "version": "3.6.1"
  }
 },
 "nbformat": 4,
 "nbformat_minor": 2
}
