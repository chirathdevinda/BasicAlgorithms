{
 "cells": [
  {
   "cell_type": "markdown",
   "metadata": {},
   "source": [
    "# Breadth-first Search"
   ]
  },
  {
   "cell_type": "code",
   "execution_count": 44,
   "metadata": {
    "collapsed": true
   },
   "outputs": [],
   "source": [
    "# Loading packages\n",
    "from collections import deque"
   ]
  },
  {
   "cell_type": "code",
   "execution_count": 145,
   "metadata": {
    "collapsed": true
   },
   "outputs": [],
   "source": [
    "# Defining the friendship table\n",
    "friendship = {}\n",
    "# Adding entries and its values\n",
    "friendship[\"You\"] = [\"Jackie\", \"Mitchell\", \"Pamala\", \"Nickie\"]\n",
    "friendship[\"Jackie\"] = [\"You\", \"Thomas\", \"Charlie\"]\n",
    "friendship[\"Thomas\"] = [\"Jack\", \"Rebecca\", \"Harris\", \"Justin\"]\n",
    "friendship[\"Justin\"] = [\"Nickie\", \"May\"]\n",
    "friendship[\"Pamala\"] = []\n",
    "friendship[\"Charlie\"] = []\n",
    "friendship[\"Jack\"] = []\n",
    "friendship[\"Harris\"] = []"
   ]
  },
  {
   "cell_type": "code",
   "execution_count": 146,
   "metadata": {
    "collapsed": true
   },
   "outputs": [],
   "source": [
    "# Revealing a Relationship\n",
    "def has_relationship(name):\n",
    "    if name == \"Mitchell\":\n",
    "        return True\n",
    "    elif name == \"Nickie\":\n",
    "        return True\n",
    "    elif name == \"Rebecca\":\n",
    "        return True\n",
    "    elif name == \"May\":\n",
    "        return True\n",
    "    else:\n",
    "        return False"
   ]
  },
  {
   "cell_type": "code",
   "execution_count": 149,
   "metadata": {
    "collapsed": true
   },
   "outputs": [],
   "source": [
    "# Algorithm Implementation\n",
    "def Breadth_first_search(friendship, person):\n",
    "    search_queue = deque()\n",
    "    search_queue += friendship[person]\n",
    "    searched = []\n",
    "    while search_queue:\n",
    "        other_person = deque.popleft(search_queue)\n",
    "        if other_person not in searched:\n",
    "            searched.append(other_person)\n",
    "            if has_relationship(other_person):\n",
    "                print(person , \"had a relationship with\", other_person)\n",
    "            else:\n",
    "                search_queue += friendship[other_person]"
   ]
  },
  {
   "cell_type": "code",
   "execution_count": 151,
   "metadata": {},
   "outputs": [
    {
     "name": "stdout",
     "output_type": "stream",
     "text": [
      "You had a relationship with Mitchell\n",
      "You had a relationship with Nickie\n",
      "You had a relationship with Rebecca\n",
      "You had a relationship with May\n"
     ]
    }
   ],
   "source": [
    "# Running the algorithm and find the relationships\n",
    "Breadth_first_search(friendship, \"You\")"
   ]
  },
  {
   "cell_type": "code",
   "execution_count": null,
   "metadata": {},
   "outputs": [],
   "source": []
  }
 ],
 "metadata": {
  "kernelspec": {
   "display_name": "Python 3",
   "language": "python",
   "name": "python3"
  },
  "language_info": {
   "codemirror_mode": {
    "name": "ipython",
    "version": 3
   },
   "file_extension": ".py",
   "mimetype": "text/x-python",
   "name": "python",
   "nbconvert_exporter": "python",
   "pygments_lexer": "ipython3",
   "version": "3.6.1"
  }
 },
 "nbformat": 4,
 "nbformat_minor": 2
}
