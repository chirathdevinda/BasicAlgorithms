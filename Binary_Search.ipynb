{
 "cells": [
  {
   "cell_type": "markdown",
   "metadata": {},
   "source": [
    "# Binary Search"
   ]
  },
  {
   "cell_type": "code",
   "execution_count": 11,
   "metadata": {
    "collapsed": true
   },
   "outputs": [],
   "source": [
    "# Defining Binary search Algorithm\n",
    "def binary_search(inputs, guess):\n",
    "    # Sorting the array first\n",
    "    input = sorted(inputs)\n",
    "    # Initializing Starting index\n",
    "    start_index = 0\n",
    "    # Intializing ending index\n",
    "    end_index = len(input) - 1\n",
    "    # Intializing Number of steps\n",
    "    num_steps = 0\n",
    "    \n",
    "    # Loop is running until starting index going over ending index which should not be happened\n",
    "    while(start_index <= end_index):\n",
    "        # incrementing by 1\n",
    "        num_steps += 1\n",
    "        # Finding the middle index at each iteration\n",
    "        mid_index = start_index + int((end_index - start_index) / 2)\n",
    "        # checking if the middle item is the guessed item\n",
    "        if (input[mid_index] == guess):\n",
    "            return mid_index, num_steps\n",
    "        # if the solution does not exist then return the -1\n",
    "        elif (input[end_index] < guess):\n",
    "            return -1, 0\n",
    "        # checking if the guess is less than the middle item if so set the end_index to mid-index\n",
    "        elif (input[mid_index] > guess):\n",
    "            end_index = mid_index\n",
    "        # checking if the guess is greater than the middle item if so set the start_index to mid_index\n",
    "        elif (input[mid_index] < guess):\n",
    "            start_index = mid_index"
   ]
  },
  {
   "cell_type": "code",
   "execution_count": 12,
   "metadata": {
    "collapsed": true
   },
   "outputs": [],
   "source": [
    "# Create an number array\n",
    "def create_array(n_elements):\n",
    "    arr = []\n",
    "    for i in range(1, n_elements):\n",
    "        arr.append(i)\n",
    "    return arr"
   ]
  },
  {
   "cell_type": "code",
   "execution_count": 20,
   "metadata": {},
   "outputs": [
    {
     "name": "stdout",
     "output_type": "stream",
     "text": [
      "Number of steps are:  7 \n",
      "Search item index is:  97 \n",
      "Search item is:  98\n"
     ]
    }
   ],
   "source": [
    "x = create_array(100)\n",
    "guess = 98\n",
    "ans_index, num_steps = binary_search(x, guess)\n",
    "if ans_index == -1:\n",
    "    print(\"No solution can be found!!!\")\n",
    "else:\n",
    "    print(\"Number of steps are: \", num_steps, \"\\nSearch item index is: \", ans_index, \"\\nSearch item is: \", x[ans_index])"
   ]
  },
  {
   "cell_type": "code",
   "execution_count": null,
   "metadata": {
    "collapsed": true
   },
   "outputs": [],
   "source": []
  },
  {
   "cell_type": "code",
   "execution_count": null,
   "metadata": {
    "collapsed": true
   },
   "outputs": [],
   "source": []
  }
 ],
 "metadata": {
  "kernelspec": {
   "display_name": "Python 3",
   "language": "python",
   "name": "python3"
  },
  "language_info": {
   "codemirror_mode": {
    "name": "ipython",
    "version": 3
   },
   "file_extension": ".py",
   "mimetype": "text/x-python",
   "name": "python",
   "nbconvert_exporter": "python",
   "pygments_lexer": "ipython3",
   "version": "3.6.1"
  }
 },
 "nbformat": 4,
 "nbformat_minor": 2
}
