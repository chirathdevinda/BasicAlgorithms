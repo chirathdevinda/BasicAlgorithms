{
 "cells": [
  {
   "cell_type": "markdown",
   "metadata": {},
   "source": [
    "# Quick Sort"
   ]
  },
  {
   "cell_type": "code",
   "execution_count": 52,
   "metadata": {},
   "outputs": [],
   "source": [
    "# Defining Quick Sort Algorithm\n",
    "def QuickSort(arr):\n",
    "    # Checking if the array is empty if so return an empty array \n",
    "    if len(arr) == 0:\n",
    "        return []\n",
    "    # Checking if the array has only one item if so return that item back\n",
    "    elif len(arr) == 1:\n",
    "        return arr\n",
    "    # Otherwise, choose a pivot point and partition original array into lower and higher items arrays \n",
    "    else:\n",
    "        # Choosing a pivot point\n",
    "        pivot = arr[0]\n",
    "        # Compare and choose elements lower than pivot element \n",
    "        lower_elements = [i for i in arr[1:] if i < pivot]\n",
    "        # Compare and choose elements higher than pivot element\n",
    "        higher_elements = [j for j in arr[1:] if j > pivot]\n",
    "        # Finally, concatenate lower, pivot and higher elemnts together. \n",
    "        # Here, lower and higher elements arrays recursively passing to the same function\n",
    "        return QuickSort(lower_elements) + [pivot] + QuickSort(higher_elements)"
   ]
  },
  {
   "cell_type": "code",
   "execution_count": 55,
   "metadata": {},
   "outputs": [
    {
     "data": {
      "text/plain": [
       "[1, 2, 3, 4, 5, 6, 7, 8, 9, 10]"
      ]
     },
     "execution_count": 55,
     "metadata": {},
     "output_type": "execute_result"
    }
   ],
   "source": [
    "# Calling QuickSort function passing an array\n",
    "QuickSort([10,9,8,7,6,5,4,3,2,1])"
   ]
  },
  {
   "cell_type": "code",
   "execution_count": null,
   "metadata": {},
   "outputs": [],
   "source": []
  },
  {
   "cell_type": "code",
   "execution_count": null,
   "metadata": {
    "collapsed": true
   },
   "outputs": [],
   "source": []
  }
 ],
 "metadata": {
  "kernelspec": {
   "display_name": "Python 3",
   "language": "python",
   "name": "python3"
  },
  "language_info": {
   "codemirror_mode": {
    "name": "ipython",
    "version": 3
   },
   "file_extension": ".py",
   "mimetype": "text/x-python",
   "name": "python",
   "nbconvert_exporter": "python",
   "pygments_lexer": "ipython3",
   "version": "3.6.1"
  }
 },
 "nbformat": 4,
 "nbformat_minor": 2
}
