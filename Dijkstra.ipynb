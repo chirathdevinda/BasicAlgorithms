{
 "cells": [
  {
   "cell_type": "markdown",
   "metadata": {},
   "source": [
    "# Dijkstra Algorithm"
   ]
  },
  {
   "cell_type": "code",
   "execution_count": 170,
   "metadata": {
    "collapsed": true
   },
   "outputs": [],
   "source": [
    "# This is after modeled the problem into a graph"
   ]
  },
  {
   "cell_type": "markdown",
   "metadata": {},
   "source": [
    "<img src=\"graph.png\">"
   ]
  },
  {
   "cell_type": "code",
   "execution_count": 171,
   "metadata": {
    "collapsed": true
   },
   "outputs": [],
   "source": [
    "# Creating the graph hash table"
   ]
  },
  {
   "cell_type": "code",
   "execution_count": 172,
   "metadata": {},
   "outputs": [],
   "source": [
    "# Defining an empty graph\n",
    "graph = {}\n",
    "# Adding nodes values to the graph\n",
    "graph[\"start\"] = {}\n",
    "graph[\"start\"][\"A\"] = 9\n",
    "graph[\"start\"][\"B\"] = 6\n",
    "graph[\"A\"] = {}\n",
    "graph[\"A\"][\"finish\"] = 3\n",
    "graph[\"B\"] = {}\n",
    "graph[\"B\"][\"A\"] = 2\n",
    "graph[\"B\"][\"finish\"] = 7\n",
    "graph[\"finish\"] = {}"
   ]
  },
  {
   "cell_type": "code",
   "execution_count": 173,
   "metadata": {
    "collapsed": true
   },
   "outputs": [],
   "source": [
    "# Creating the cost and parent hash table"
   ]
  },
  {
   "cell_type": "code",
   "execution_count": 174,
   "metadata": {},
   "outputs": [],
   "source": [
    "# Defining costs and parent hash tables\n",
    "costs = {}\n",
    "parent = {}\n",
    "# Adding all the nodes' costs to the costs hash table and their parent name to the parent hash table\n",
    "for node in graph[\"start\"].keys():\n",
    "    costs[node] = graph[\"start\"][node]\n",
    "    parent[node] = \"start\"\n",
    "# Make the finish node's value as infinity to start with because we haven't reached there yet\n",
    "costs[\"finish\"] = float(\"inf\")\n",
    "\n",
    "#######################################################################################################################\n",
    "# NOTE\n",
    "#\n",
    "# Usually we don't have to run lopps and write those costs information instead we have the data already to begin with.\n",
    "# But here we don't have a choice so that I extracted graph data and put into these hash tables\n",
    "#\n",
    "#######################################################################################################################"
   ]
  },
  {
   "cell_type": "code",
   "execution_count": 175,
   "metadata": {
    "collapsed": true
   },
   "outputs": [],
   "source": [
    "# Dijkstra Algorithm Implementation\n",
    "\n",
    "# To success, it needs three hash tables as arguments like graph, costs, and parent\n",
    "def Dijkstra(graph, costs, parent):\n",
    "    # This list store already searched nodes\n",
    "    scanned = []\n",
    "    # Find the lowest cost node by calling find_lowest_cost_node function\n",
    "    node = find_lowest_cost_node(costs, scanned)\n",
    "    # Iterate until all the nodes are scanned or until reached to the destination node \n",
    "    while node is not None:\n",
    "        # Take the node's cost\n",
    "        node_cost = costs[node]\n",
    "        # find all the neighbours attached to this node\n",
    "        neighbours = graph[node]\n",
    "        # Iterate through all the neighbours of that node\n",
    "        for i in neighbours.keys():\n",
    "            # calculate the each node's new cost by adding its parent node cost\n",
    "            new_node_cost = node_cost + neighbours[i]\n",
    "            # If the current neighbour's cost is lower than its previous value, then update the cost and set the parent  \n",
    "            if costs[i] > new_node_cost:\n",
    "                # Update the neighbour node's cost\n",
    "                costs[i] = new_node_cost\n",
    "                # Set its parent as the neighbour's parent node\n",
    "                parent[i] = node\n",
    "        # Append the node to the scanned list, this will make sure this node will not ever scann again\n",
    "        scanned.append(node)\n",
    "        # Find the next lowest node and until stop, this whole loop will continue to run\n",
    "        node = find_lowest_cost_node(costs, scanned)\n",
    "    # Print the shortest path by calling print_the_path function\n",
    "    print_the_path(parent)"
   ]
  },
  {
   "cell_type": "code",
   "execution_count": 176,
   "metadata": {
    "collapsed": true
   },
   "outputs": [],
   "source": [
    "# Finding the lowest cost node\n",
    "def find_lowest_cost_node(costs, scanned):\n",
    "    # To start make the lowest cost node None and lowest cost as infinity\n",
    "    lowest_cost_node = None\n",
    "    lowest_cost = float(\"inf\")\n",
    "    # Iterate each node in the costs hash table\n",
    "    for node in costs:\n",
    "        # Take the current node's cost\n",
    "        node_cost = costs[node]\n",
    "        # Compare if the current cost is the lowest and if the current node has not yet scanned\n",
    "        if node_cost < lowest_cost and node not in scanned:\n",
    "            # If so, then set the lowest_cost as current node's cost and lowest cost node as the current node\n",
    "            lowest_cost = node_cost\n",
    "            lowest_cost_node = node\n",
    "    # return the lowest cost node\n",
    "    return lowest_cost_node"
   ]
  },
  {
   "cell_type": "code",
   "execution_count": 177,
   "metadata": {},
   "outputs": [],
   "source": [
    "# This will print the searched path\n",
    "def print_the_path(parent):\n",
    "    path = []\n",
    "    # Iterating through parent hash table and append corresponding node by passing previous node as the key \n",
    "    for i in range(len(parent)):\n",
    "        # First add the finish node (not necessary but for the completeness)\n",
    "        if i == 0:\n",
    "            last_node = \"finish\"\n",
    "            path.append(last_node)\n",
    "        else:\n",
    "            # append by passing previous node as the key \n",
    "            path.append(parent[path[i-1]])\n",
    "    # Finally, append the start node at the end (again not necessary but for the completeness)\n",
    "    path.append(\"start\")\n",
    "    # Print the path by iterating through the path list\n",
    "    for i, item in enumerate(reversed(path)):\n",
    "        if i < (len(path) - 1):\n",
    "            print(item, \" -> \", end=\" \")\n",
    "        else:\n",
    "            print(item)"
   ]
  },
  {
   "cell_type": "code",
   "execution_count": 178,
   "metadata": {},
   "outputs": [
    {
     "name": "stdout",
     "output_type": "stream",
     "text": [
      "start  ->  B  ->  A  ->  finish\n"
     ]
    }
   ],
   "source": [
    "Dijkstra(graph, costs, parent)"
   ]
  },
  {
   "cell_type": "code",
   "execution_count": null,
   "metadata": {},
   "outputs": [],
   "source": []
  }
 ],
 "metadata": {
  "kernelspec": {
   "display_name": "Python 3",
   "language": "python",
   "name": "python3"
  },
  "language_info": {
   "codemirror_mode": {
    "name": "ipython",
    "version": 3
   },
   "file_extension": ".py",
   "mimetype": "text/x-python",
   "name": "python",
   "nbconvert_exporter": "python",
   "pygments_lexer": "ipython3",
   "version": "3.6.1"
  }
 },
 "nbformat": 4,
 "nbformat_minor": 2
}
